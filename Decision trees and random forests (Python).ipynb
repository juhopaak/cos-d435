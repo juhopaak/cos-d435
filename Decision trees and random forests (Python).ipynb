{
 "cells": [
  {
   "cell_type": "markdown",
   "metadata": {},
   "source": [
    "# Decion trees and random forests\n",
    "\n",
    "## Data\n",
    "\n",
    "Download the [World Value Survey](http://www.worldvaluessurvey.org/WVSDocumentationWV6.jsp) data and check out the corresponding questionnaire and codebook files to understand the dataset contents.\n",
    "\n",
    "## Overarching research question\n",
    "\n",
    "Explain what variables effect happiness (`V10`) using decision-tree learning.\n",
    "\n",
    "## Method\n",
    "\n",
    "There are many tools for running decision trees. We apply [SciKit learn](https://scikit-learn.org/stable/modules/tree.html)."
   ]
  },
  {
   "cell_type": "code",
   "execution_count": null,
   "metadata": {},
   "outputs": [],
   "source": [
    "## Create new data frame for analysis\n",
    "\n",
    "import csv\n",
    "import pandas as pd\n",
    "\n",
    "selected_keys = ['V4', 'V5', 'V6', 'V7', 'V8', 'V9','V10']\n",
    "\n",
    "# Read data\n",
    "data = []\n",
    "for line in csv.DictReader( open('data/wvs.csv'), delimiter=';' ):\n",
    "    dd = []\n",
    "    for key in selected_keys:\n",
    "        dd.append( line[key] )\n",
    "    data.append( dd )\n",
    "\n",
    "# Create data frame\n",
    "df = pd.DataFrame( data, columns=selected_keys )\n",
    "df"
   ]
  },
  {
   "cell_type": "code",
   "execution_count": null,
   "metadata": {},
   "outputs": [],
   "source": [
    "from sklearn import tree\n",
    "\n",
    "decision_tree = tree.DecisionTreeClassifier( max_depth = 2) # tree.DecisionTreeRegressor() # for regression model\n",
    "model = decision_tree.fit( df[selected_keys[:-1]], df['V10'] )"
   ]
  },
  {
   "cell_type": "code",
   "execution_count": null,
   "metadata": {},
   "outputs": [],
   "source": [
    "import graphviz\n",
    "from IPython.display import display\n",
    "image = tree.export_graphviz( model, class_names = True )\n",
    "display( graphviz.Source( image ) ) ## or you could write the graphviz format to a file and visualise it using some other format"
   ]
  },
  {
   "cell_type": "markdown",
   "metadata": {},
   "source": [
    "## Model analysis\n",
    "\n",
    "As discussed in lecture, there are [many different metrics for evaluating the quality of a model](https://scikit-learn.org/stable/modules/model_evaluation.html#model-evaluation). Beyond single metrics (like accuracy score, F1 score), examining the confusion matrix may be beneficial to assess model performance."
   ]
  },
  {
   "cell_type": "code",
   "execution_count": null,
   "metadata": {},
   "outputs": [],
   "source": [
    "from sklearn import metrics\n",
    "\n",
    "predicted_values = model.predict( df[selected_keys[:-1]] )\n",
    "metrics.confusion_matrix( predicted_values, df['V10'] )"
   ]
  },
  {
   "cell_type": "markdown",
   "metadata": {},
   "source": [
    "## Tasks\n",
    "\n",
    "* Choose better or more interesting values to be modelled.\n",
    "* Improve data preprocessing (remove missing values etc.)\n",
    "* Apply training data - test data split in the data analysis stage. Does that improve the analysis at all?\n",
    "* Increase the maximum depth of the decision tree. Does it improve the analysis at all?"
   ]
  },
  {
   "cell_type": "markdown",
   "metadata": {},
   "source": [
    "## Random forests -  decision trees on steroids.\n",
    "\n",
    "The challenge with decision trees - like many other machine learning algorithms - is that they run a single model on the data, relying on a single random state. This can easily lead to overfitting and bad performance [Random forests](https://scikit-learn.org/stable/modules/generated/sklearn.ensemble.RandomForestClassifier.html) address this issue through running an ensemble of trees, and creating a classifier through combining their diverging predictions (e.g. trough averaging)."
   ]
  },
  {
   "cell_type": "code",
   "execution_count": null,
   "metadata": {},
   "outputs": [],
   "source": [
    "from sklearn import ensemble\n",
    "\n",
    "random_forest = ensemble.RandomForestClassifier()\n",
    "model = random_forest.fit( df[selected_keys[:-1]], df['V10'] )"
   ]
  },
  {
   "cell_type": "code",
   "execution_count": null,
   "metadata": {},
   "outputs": [],
   "source": [
    "predicted_values = model.predict( df[selected_keys[:-1]] )\n",
    "metrics.confusion_matrix( predicted_values, df['V10'] )"
   ]
  }
 ],
 "metadata": {
  "kernelspec": {
   "display_name": "Python 3 (ipykernel)",
   "language": "python",
   "name": "python3"
  },
  "language_info": {
   "codemirror_mode": {
    "name": "ipython",
    "version": 3
   },
   "file_extension": ".py",
   "mimetype": "text/x-python",
   "name": "python",
   "nbconvert_exporter": "python",
   "pygments_lexer": "ipython3",
   "version": "3.10.0"
  }
 },
 "nbformat": 4,
 "nbformat_minor": 4
}
