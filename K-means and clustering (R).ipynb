{
 "cells": [
  {
   "cell_type": "markdown",
   "metadata": {},
   "source": [
    "# K-means\n",
    "\n",
    "## Data\n",
    "\n",
    "Download the [World Value Survey](http://www.worldvaluessurvey.org/WVSDocumentationWV6.jsp) data and check out the corresponding questionnaire and codebook files to understand the dataset contents.\n",
    "\n",
    "## Overarching research question\n",
    "\n",
    "What kind of groups can we identify among survey respondents?\n",
    "* Choose some variables in the data that might be relevant\n",
    "* Run clustering\n",
    "* Interpret results\n",
    "\n",
    "## Tools\n",
    "\n",
    "[K-means](https://www.rdocumentation.org/packages/stats/versions/3.6.2/topics/kmeans) is in-built to R."
   ]
  },
  {
   "cell_type": "code",
   "execution_count": null,
   "metadata": {},
   "outputs": [],
   "source": [
    "# Create new data frame for analysis\n",
    "\n",
    "# Check the questionnaire and codebook and modify these as you like.\n",
    "selected_keys <- c('V4', 'V5', 'V6', 'V7', 'V8', 'V9')\n",
    "\n",
    "full_data <- read.csv('data/wvs.csv', sep=';')\n",
    "\n",
    "data <- full_data[,selected_keys ]\n",
    "\n",
    "print( nrow( data ) )\n",
    "head(data)"
   ]
  },
  {
   "cell_type": "code",
   "execution_count": null,
   "metadata": {},
   "outputs": [],
   "source": [
    "set.seed(100) # Set random seed for reproducible results\n",
    "\n",
    "kmeans_results <- kmeans( data, centers = 10 )\n",
    "\n",
    "## Check number of responders per cluster\n",
    "table( kmeans_results$cluster )"
   ]
  },
  {
   "cell_type": "markdown",
   "metadata": {},
   "source": [
    "Now we have created a **ten cluster** approach.\n",
    "How do we know if it is any good?\n",
    "\n",
    "What would be different if we create a **five cluster** model instead?\n",
    "\n",
    "Let's examine the mean values of the variables per each identified cluster and plot the results."
   ]
  },
  {
   "cell_type": "code",
   "execution_count": null,
   "metadata": {},
   "outputs": [],
   "source": [
    "kmeans_results$centers"
   ]
  },
  {
   "cell_type": "markdown",
   "metadata": {},
   "source": [
    "## Task\n",
    "\n",
    "* Run the above code and explain to yourself what it does.\n",
    "* Response values -1, -2 and -3 relate to missing data (people answering I don't know etc). Clean these values away the dataset and rerun the analysis.\n",
    "* Modify the variables used for clustering and the number of clusters and examine how the results change."
   ]
  },
  {
   "cell_type": "markdown",
   "metadata": {},
   "source": [
    "## Evaluating the results\n",
    "\n",
    "One way to evaluate the quality of clustering is to use the [\"Elbow method\"](https://en.wikipedia.org/wiki/Elbow_method_(clustering)), which provides a visual approach to selecting the number of clusters. Other tools exists as well, such as the [Silhouette method](https://en.wikipedia.org/wiki/Silhouette_(clustering)). Elbow is a simple approach to model selection in k-means, but it does not always provide clear answers.\n",
    "\n",
    "The Elbow-method measures the distance between data points and their cluster centroids (using sum of squared errors, sse). The metric's values can range from 0 (all items in the clusters are at the same point as their centroid) to positive infinity (nodes are all over the place). When the number or clusters (k) increases, the SSE score decreases. The goal in using the Elbow is to balance between increasing model complexity and understability and interpretability of the results."
   ]
  },
  {
   "cell_type": "code",
   "execution_count": null,
   "metadata": {},
   "outputs": [],
   "source": [
    "set.seed(100)\n",
    "\n",
    "sse <- c()\n",
    "\n",
    "for(k in 2:10) {\n",
    "    result <- kmeans( data, centers = k )\n",
    "    sse <- c( sse, result$tot.withinss ) ## this is slow in R, but when doing a list of ten items it is OK.\n",
    "}"
   ]
  },
  {
   "cell_type": "code",
   "execution_count": null,
   "metadata": {},
   "outputs": [],
   "source": [
    "plot( 2:10, sse, type=\"b\")"
   ]
  },
  {
   "cell_type": "markdown",
   "metadata": {},
   "source": [
    "## Things to think and try out\n",
    "\n",
    "* Try to run k-means using different ranges of K and use the Elbow method to select a model. Note that running a large range of models can take a long time.\n",
    "* Inspect the results and try to interpret what the variable means mean.\n",
    "* What similarities can you find between k-means and factor analysis?\n",
    "* How does k-means differ from factor analysis? "
   ]
  }
 ],
 "metadata": {
  "kernelspec": {
   "display_name": "R",
   "language": "R",
   "name": "ir"
  },
  "language_info": {
   "codemirror_mode": "r",
   "file_extension": ".r",
   "mimetype": "text/x-r-source",
   "name": "R",
   "pygments_lexer": "r",
   "version": "4.4.0"
  }
 },
 "nbformat": 4,
 "nbformat_minor": 4
}
