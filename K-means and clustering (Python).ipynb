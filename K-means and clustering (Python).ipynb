{
 "cells": [
  {
   "cell_type": "markdown",
   "metadata": {},
   "source": [
    "# K-means\n",
    "\n",
    "## Data\n",
    "\n",
    "Download the [World Value Survey](http://www.worldvaluessurvey.org/WVSDocumentationWV6.jsp) data and check out the corresponding questionnaire and codebook files to understand the dataset contents.\n",
    "\n",
    "## Overarching research question\n",
    "\n",
    "What kind of groups can we identify among survey respondents?\n",
    "* Choose some variables in the data that might be relevant\n",
    "* Run clustering\n",
    "* Interpret results\n",
    "\n",
    "## Tools\n",
    "\n",
    "K-means clustering can be performed using many tools. We apply [SciKit learn](https://scikit-learn.org/0.16/modules/clustering.html#clustering)."
   ]
  },
  {
   "cell_type": "code",
   "execution_count": null,
   "metadata": {},
   "outputs": [],
   "source": [
    "import csv\n",
    "import pandas as pd\n",
    "import numpy as np\n",
    "from sklearn.cluster import KMeans"
   ]
  },
  {
   "cell_type": "code",
   "execution_count": null,
   "metadata": {},
   "outputs": [],
   "source": [
    "# Create new data frame for analysis\n",
    "\n",
    "# Check the questionnaire and codebook and modify these as you like.\n",
    "selected_keys = ['V4', 'V5', 'V6', 'V7', 'V8', 'V9']\n",
    "\n",
    "# Read data\n",
    "data = []\n",
    "for line in csv.DictReader( open('data/wvs.csv'), delimiter=';' ):\n",
    "    dd = []\n",
    "    for key in selected_keys:\n",
    "        dd.append( line[key] )\n",
    "    data.append( dd )\n",
    "\n",
    "# Create data frame\n",
    "df = pd.DataFrame(data, columns=selected_keys)\n",
    "df"
   ]
  },
  {
   "cell_type": "code",
   "execution_count": null,
   "metadata": {},
   "outputs": [],
   "source": [
    "kmeans = KMeans( 10, n_init=10, random_state=100 ) # Set random state for reproducible results\n",
    "kmeans.fit_predict( df )\n",
    "\n",
    "## Check number of responders per cluster\n",
    "clusters, counts = np.unique( kmeans.labels_, return_counts=True )\n",
    "pd.DataFrame( counts, columns=['Number of respondents per cluster'] ).T"
   ]
  },
  {
   "cell_type": "markdown",
   "metadata": {},
   "source": [
    "Now we have created a model with **ten clusters**.\n",
    "\n",
    "How do we know if it is any good?\n",
    "\n",
    "What would be different if we created a **five cluster** model instead?\n",
    "\n",
    "Let's examine the mean values of each variable per cluster."
   ]
  },
  {
   "cell_type": "code",
   "execution_count": null,
   "metadata": {},
   "outputs": [],
   "source": [
    "pd.DataFrame( kmeans.cluster_centers_, columns=selected_keys )"
   ]
  },
  {
   "cell_type": "markdown",
   "metadata": {},
   "source": [
    "## Tasks\n",
    "\n",
    "* Run the above code and explain to yourself what it does.\n",
    "* Response values -1, -2 and -3 relate to missing data (people answering I don't know etc). Clean these values away the dataset and rerun the analysis.\n",
    "* Modify the variables used for clustering and the number of clusters and examine how the results change."
   ]
  },
  {
   "cell_type": "markdown",
   "metadata": {},
   "source": [
    "## Evaluating the results\n",
    "\n",
    "One way to evaluate the quality of clustering is to use the [\"Elbow method\"](https://en.wikipedia.org/wiki/Elbow_method_(clustering)), which provides a visual approach to selecting the number of clusters. Other tools exists as well, such as the [Silhouette method](https://en.wikipedia.org/wiki/Silhouette_(clustering)). Elbow is a simple approach to model selection in k-means, but it does not always provide clear answers.\n",
    "\n",
    "The Elbow-method measures the distance between data points and their cluster centroids (using sum of squared errors, sse). The metric's values can range from 0 (all items in the clusters are at the same point as their centroid) to positive infinity (nodes are all over the place). When the number or clusters (k) increases, the SSE score decreases. The goal in using the Elbow is to balance between increasing model complexity and understability and interpretability of the results."
   ]
  },
  {
   "cell_type": "code",
   "execution_count": null,
   "metadata": {},
   "outputs": [],
   "source": [
    "sse = {}\n",
    "\n",
    "# Run k-means for a range of number of clusters\n",
    "for k in range(1, 10):\n",
    "    kmeans = KMeans( k, n_init=10, random_state=100 )\n",
    "    kmeans.fit_predict( df )\n",
    "    sse[k] = kmeans.inertia_"
   ]
  },
  {
   "cell_type": "code",
   "execution_count": null,
   "metadata": {},
   "outputs": [],
   "source": [
    "import matplotlib.pyplot as plt\n",
    "plt.figure()\n",
    "plt.plot(list(sse.keys()), list(sse.values()))\n",
    "plt.xlabel(\"Number of clusters K\")\n",
    "plt.ylabel(\"SSE\")\n",
    "plt.show()"
   ]
  },
  {
   "cell_type": "markdown",
   "metadata": {},
   "source": [
    "## Things to think and try out\n",
    "\n",
    "* Try to run k-means using different ranges of K and use the Elbow method to select a model. Note that running a large range of models can take a long time.\n",
    "* Inspect the results and try to interpret what the variable means mean.\n",
    "* What similarities can you find between k-means and factor analysis?\n",
    "* How does k-means differ from factor analysis? "
   ]
  }
 ],
 "metadata": {
  "kernelspec": {
   "display_name": "Python 3 (ipykernel)",
   "language": "python",
   "name": "python3"
  },
  "language_info": {
   "codemirror_mode": {
    "name": "ipython",
    "version": 3
   },
   "file_extension": ".py",
   "mimetype": "text/x-python",
   "name": "python",
   "nbconvert_exporter": "python",
   "pygments_lexer": "ipython3",
   "version": "3.10.0"
  }
 },
 "nbformat": 4,
 "nbformat_minor": 4
}
