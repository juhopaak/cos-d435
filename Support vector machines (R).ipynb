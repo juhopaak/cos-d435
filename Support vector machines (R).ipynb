{
 "cells": [
  {
   "cell_type": "markdown",
   "metadata": {},
   "source": [
    "## Support vector machines\n",
    "\n",
    "**Data** [Gender-annoted dataset of European parliament talks](https://www.kaggle.com/ellarabi/europarl-annotated-for-speaker-gender-and-age)\n",
    "\n",
    "**Overreaching question** Can we develop a model which correctly predicts speakers' based on what they are saying?"
   ]
  },
  {
   "cell_type": "markdown",
   "metadata": {},
   "source": [
    "## Data management\n",
    "\n",
    "We connect the variable of interest into the textual data each speaker has said.\n",
    "That data is stored as XML, so we need to do a bit of work before we can easily use it.\n",
    "Also, transform the textual data to a feature matrix."
   ]
  },
  {
   "cell_type": "code",
   "execution_count": null,
   "metadata": {},
   "outputs": [],
   "source": [
    "metadata_all <- readLines('./data/europarl-annotated-for-speaker-gender-and-age/europarl.de-en/europarl.de-en.dat')\n",
    "texts_all <- readLines('./data/europarl-annotated-for-speaker-gender-and-age/europarl.de-en/europarl.de-en.en.aligned.tok')\n",
    "\n",
    "## this time processign these takes already some time, so let's choose a random set of 1000 texts\n",
    "set.seed(1)\n",
    "\n",
    "all_ids <- 1:length( metadata_all )\n",
    "selected_ids <- sample( all_ids, 1000 )\n",
    "\n",
    "\n",
    "metadata <- metadata_all[ selected_ids ]\n",
    "texts <- texts_all[ selected_ids ]"
   ]
  },
  {
   "cell_type": "code",
   "execution_count": null,
   "metadata": {},
   "outputs": [],
   "source": [
    "require(XML)\n",
    "\n",
    "clean <- function( entry ){\n",
    "    xml <- xmlTreeParse( entry )\n",
    "    return( xmlGetAttr( xml$doc$children$LINE  , \"GENDER\" ) )\n",
    "}\n",
    "\n",
    "gender <- sapply( metadata, FUN = clean )\n",
    "names( gender ) <- NA"
   ]
  },
  {
   "cell_type": "code",
   "execution_count": null,
   "metadata": {},
   "outputs": [],
   "source": [
    "library(quanteda)\n",
    "\n",
    "corp <- corpus( texts )\n",
    "\n",
    "token <- tokens( corp )\n",
    "\n",
    "document_terms <- dfm( token )"
   ]
  },
  {
   "cell_type": "code",
   "execution_count": null,
   "metadata": {},
   "outputs": [],
   "source": [
    "data <- convert( document_terms, \"data.frame\" )\n",
    "data$label_for_ml <- as.vector( gender ) ## adding the label we seek to learn to data\n",
    "data$label_for_ml <- as.factor( data$label_for_ml )\n",
    "data <- data[, -c(1)] ## this column is added when converting to data frame, but it is useless => remove from analysis\n",
    "\n",
    "dim( data )"
   ]
  },
  {
   "cell_type": "markdown",
   "metadata": {},
   "source": [
    "## Separate the train-test split\n",
    "\n",
    "This is used later in the analysis to ensure we do not [overfit](https://en.wikipedia.org/wiki/Overfitting) the data when we train the machine learning classifier.\n",
    "We choose to use 20% of data for testing."
   ]
  },
  {
   "cell_type": "code",
   "execution_count": null,
   "metadata": {},
   "outputs": [],
   "source": [
    "library( caret )\n",
    "\n",
    "trainIndex <- createDataPartition(data$label_for_ml, p = .8, list = FALSE)\n",
    "\n",
    "dataTrain <- data[ trainIndex,]\n",
    "dataTest  <- data[-trainIndex,]"
   ]
  },
  {
   "cell_type": "markdown",
   "metadata": {},
   "source": [
    "# Run and evaluate machine learning tasks\n",
    "\n",
    "We now train the model using the **training** data and measure how well accuracy we achieved by examining **test data**."
   ]
  },
  {
   "cell_type": "code",
   "execution_count": null,
   "metadata": {},
   "outputs": [],
   "source": [
    "model <- train( label_for_ml ~., data = dataTrain, method = \"svmLinear\")\n",
    "## this prints a lot of warnings\n",
    "print( model )"
   ]
  },
  {
   "cell_type": "code",
   "execution_count": null,
   "metadata": {},
   "outputs": [],
   "source": [
    "test_pred <- predict( model, newdata = dataTest )\n",
    "postResample( test_pred, as.factor(dataTest$label_for_ml) )"
   ]
  },
  {
   "cell_type": "code",
   "execution_count": null,
   "metadata": {},
   "outputs": [],
   "source": [
    "## TODO: FIX THIS\n",
    "importance <- varImp( model, data = dataTest )\n",
    "\n",
    "summary( importance )\n",
    "plot( importance )"
   ]
  },
  {
   "cell_type": "markdown",
   "metadata": {},
   "source": [
    "### Tasks\n",
    "\n",
    "* Run the code as is and interprent the accuracy. What does that mean?\n",
    "* Examine different metrics for [classification accuracy](https://topepo.github.io/caret/measuring-performance.html).\n",
    "* Fix issues in the text pre-processing: account for stop words, frequent terms ans stem content in the document-term-matrix: does it have any implications on accuracy?\n",
    "* Predictors includes each feature (as a key) and how good the variable was for said problem (as a value). Extract from this the best predictors.\n",
    "* Count the number of different labels in the dataset of 10,000 comments. What can you observe?\n",
    "* Modify the code to use [Naive Bayes](https://topepo.github.io/caret/train-models-by-tag.html#bayesian-model) model and SVM model. Which one seems to work better?"
   ]
  },
  {
   "cell_type": "markdown",
   "metadata": {},
   "source": [
    "# Advanced magics"
   ]
  },
  {
   "cell_type": "markdown",
   "metadata": {},
   "source": [
    "* There are many different ways to build a models using various supervised machine learning methods.\n",
    "One can use different parameters of methods. This is known as *tuning* the model and can improve models' performance in terms of accuracy.\n",
    "* [Grid search](https://topepo.github.io/caret/model-training-and-tuning.html#basic-parameter-tuning) is an approach to examine different parameters and examine what paremeters lead to best models.\n",
    "* You can also work on data preprocessing to [scale them](https://topepo.github.io/caret/pre-processing.html#centering-and-scaling) or try to more acressively to clean or remove data."
   ]
  },
  {
   "cell_type": "code",
   "execution_count": null,
   "metadata": {},
   "outputs": [],
   "source": [
    "## defining parameters for different models\n",
    "grid <- expand.grid( \"C\" = c(1, 10, 100, 1000) )"
   ]
  },
  {
   "cell_type": "code",
   "execution_count": null,
   "metadata": {},
   "outputs": [],
   "source": [
    "model <- train( label_for_ml ~., data = dataTrain, method = \"svmLinear\", tuneGrid = grid )"
   ]
  },
  {
   "cell_type": "markdown",
   "metadata": {},
   "source": [
    "* We have used a binary variable (male/female), however support vector machines can be used to multi-category classification or linear variables through regression models - see [different models](https://topepo.github.io/caret/available-models.html)."
   ]
  },
  {
   "cell_type": "markdown",
   "metadata": {},
   "source": [
    "* If doing category classification, the algorithm is senstive to inbalances between classification, i.e. if there are more cases belonging to Category 1 than in Category 2. We might need to do [magic](https://topepo.github.io/caret/subsampling-for-class-imbalances.html) to control for these."
   ]
  },
  {
   "cell_type": "code",
   "execution_count": null,
   "metadata": {},
   "outputs": [],
   "source": [
    "# TODO FIX THIS"
   ]
  },
  {
   "cell_type": "code",
   "execution_count": null,
   "metadata": {},
   "outputs": [],
   "source": [
    "library(ROSE)\n",
    "\n",
    "fixedDataTrain <- ROSE( label_for_ml ~ ., data = dataTrain) ## note: clean out , before running this code\n",
    "\n",
    "model <- train( label_for_ml ~., data = fixedDataTrain, method = \"svmLinear\" )\n",
    "print( model )"
   ]
  },
  {
   "cell_type": "markdown",
   "metadata": {},
   "source": [
    "### Tasks\n",
    "\n",
    "* Try different grid seaarcg parameters, see if your accuracy metric improve.\n",
    "* Does balancing improve accuracy with our data?\n",
    "* Use age variable to develop a regression model."
   ]
  }
 ],
 "metadata": {
  "kernelspec": {
   "display_name": "R",
   "language": "R",
   "name": "ir"
  },
  "language_info": {
   "codemirror_mode": "r",
   "file_extension": ".r",
   "mimetype": "text/x-r-source",
   "name": "R",
   "pygments_lexer": "r",
   "version": "4.3.2"
  }
 },
 "nbformat": 4,
 "nbformat_minor": 4
}
